{
 "cells": [
  {
   "cell_type": "code",
   "execution_count": 1,
   "id": "9584442e-3632-4807-97e2-511ad101108f",
   "metadata": {},
   "outputs": [],
   "source": [
    "#Loading the txt files and putting them into a pandas df\n",
    "import numpy as np\n",
    "import matplotlib.pyplot as plt\n",
    "import pandas as pd\n",
    "for i in range(1,500):\n",
    "    if i == 1:\n",
    "         result = pd.read_csv(f'archivo_{i}.txt' , sep=';')\n",
    "    else:\n",
    "        df = pd.read_csv(f'archivo_{i}.txt' , sep=';')\n",
    "        result = pd.concat([result,df])"
   ]
  },
  {
   "cell_type": "code",
   "execution_count": null,
   "id": "6c6e6a37-40e0-42b3-a2e6-86d0544c6a50",
   "metadata": {},
   "outputs": [],
   "source": [
    "#save it as csv for futuro iterations\n",
    "result.to_csv('out.csv')  "
   ]
  },
  {
   "cell_type": "code",
   "execution_count": 1,
   "id": "3b49995a-ce29-4115-be0d-d6a58d2261f8",
   "metadata": {},
   "outputs": [],
   "source": [
    "#Once the info is in a single df (csv) we can only load it and work from there\n",
    "import numpy as np\n",
    "import matplotlib.pyplot as plt\n",
    "import pandas as pd\n",
    "result = pd.read_csv(\"out.csv\")"
   ]
  },
  {
   "cell_type": "code",
   "execution_count": 2,
   "id": "89f8ed15-ebc0-4d30-b80e-6903c91d34ea",
   "metadata": {},
   "outputs": [],
   "source": [
    "#create time column (it does not represent a real value but a time step of X s)\n",
    "time = np.arange(104473569)\n",
    "result['failure'] = np.where(result['Current'] > 9, 1, 0)\n",
    "result['times'] = time\n",
    "result = result.drop(columns=['Time'], axis=1)"
   ]
  },
  {
   "cell_type": "code",
   "execution_count": 3,
   "id": "12ea1d5e-1d5e-40a5-b726-0f74eeec767c",
   "metadata": {},
   "outputs": [],
   "source": [
    "class_df = result[['Duty', 'Current', 'RMS_Current', 'Voltage', 'Output_Power', 'Load', 'failure']].copy()"
   ]
  },
  {
   "cell_type": "code",
   "execution_count": 4,
   "id": "448786bf-65f3-4817-bc3e-e2cbc90481f0",
   "metadata": {},
   "outputs": [],
   "source": [
    "df_failure = class_df[class_df['failure'] == 1]\n",
    "df_nofailure = class_df[class_df['failure'] == 0]"
   ]
  },
  {
   "cell_type": "code",
   "execution_count": 5,
   "id": "b6e9ee97-ace4-46e6-9a44-3876d3f5aa81",
   "metadata": {},
   "outputs": [],
   "source": [
    "from sklearn.model_selection import train_test_split\n",
    "y_failure = df_failure.pop('failure')\n",
    "X_failure = df_failure\n",
    "y_nofailure = df_nofailure.pop('failure')\n",
    "X_nofailure = df_nofailure\n",
    "\n",
    "X_train_failure,X_test_failure,y_train_failure,y_test_failure = train_test_split(X_failure,y_failure,test_size=0.3)\n",
    "X_train_nofailure,X_test_nofailure,y_train_nofailure,y_test_nofailure = train_test_split(X_nofailure,y_nofailure,test_size=0.3)"
   ]
  },
  {
   "cell_type": "code",
   "execution_count": 6,
   "id": "497a0a7f-5c5e-4aa9-b0dd-ee8920cc87e9",
   "metadata": {},
   "outputs": [],
   "source": [
    "X_train = pd.concat([X_train_failure, X_train_nofailure])\n",
    "X_test = pd.concat([X_test_failure, X_test_nofailure])\n",
    "y_train = pd.concat([y_train_failure, y_train_nofailure])\n",
    "y_test = pd.concat([y_test_failure, y_test_nofailure])"
   ]
  },
  {
   "cell_type": "code",
   "execution_count": 7,
   "id": "bc1a76e7-6f1f-409c-b255-af31e7e882bf",
   "metadata": {},
   "outputs": [
    {
     "data": {
      "text/plain": [
       "0.9998791081801838"
      ]
     },
     "execution_count": 7,
     "metadata": {},
     "output_type": "execute_result"
    }
   ],
   "source": [
    "from sklearn.neighbors import KNeighborsClassifier\n",
    "from sklearn.metrics import accuracy_score\n",
    "from sklearn.model_selection import cross_val_score\n",
    "from sklearn.model_selection import LeaveOneOut\n",
    "knn = KNeighborsClassifier(n_neighbors = 9)\n",
    "knn.fit(X_train, y_train)\n",
    "y_pred = knn.predict(X_test)\n",
    "#scores = cross_val_score(knn, X, Y, cv=5)\n",
    "knn.score(X_test, y_test)\n",
    "#print(\"%0.5f accuracy with a standard deviation of %0.5f\" % (scores.mean(), scores.std()))"
   ]
  },
  {
   "cell_type": "code",
   "execution_count": null,
   "id": "46234b71-45d7-4c44-aaaf-b8d58442cacf",
   "metadata": {},
   "outputs": [],
   "source": []
  }
 ],
 "metadata": {
  "kernelspec": {
   "display_name": "Python 3 (ipykernel)",
   "language": "python",
   "name": "python3"
  },
  "language_info": {
   "codemirror_mode": {
    "name": "ipython",
    "version": 3
   },
   "file_extension": ".py",
   "mimetype": "text/x-python",
   "name": "python",
   "nbconvert_exporter": "python",
   "pygments_lexer": "ipython3",
   "version": "3.9.7"
  }
 },
 "nbformat": 4,
 "nbformat_minor": 5
}
